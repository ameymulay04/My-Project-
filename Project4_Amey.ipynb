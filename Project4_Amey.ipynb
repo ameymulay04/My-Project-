{
  "nbformat": 4,
  "nbformat_minor": 0,
  "metadata": {
    "colab": {
      "name": "Project4_(final) good.ipynb",
      "provenance": [],
      "collapsed_sections": []
    },
    "kernelspec": {
      "name": "python3",
      "display_name": "Python 3"
    },
    "language_info": {
      "codemirror_mode": {
        "name": "ipython",
        "version": 3
      },
      "file_extension": ".py",
      "mimetype": "text/x-python",
      "name": "python",
      "nbconvert_exporter": "python",
      "pygments_lexer": "ipython3",
      "version": "3.7.4"
    },
    "accelerator": "GPU"
  },
  "cells": [
    {
      "cell_type": "markdown",
      "metadata": {
        "colab_type": "text",
        "id": "OTpnyUEJrAjE"
      },
      "source": [
        "# APS1070\n",
        "#### Linear Regression - Project 4"
      ]
    },
    {
      "cell_type": "markdown",
      "metadata": {
        "colab_type": "text",
        "id": "fUdJ6xw3rJIG"
      },
      "source": [
        "Please fill out the following:\n",
        "\n",
        "\n",
        "*   Your **name**: Amey Mulay\n",
        "*   Your **student number**: 1005574530\n",
        "\n"
      ]
    },
    {
      "cell_type": "markdown",
      "metadata": {
        "id": "lUmfemO4wElf",
        "colab_type": "text"
      },
      "source": [
        "##**Marking Scheme:**\n",
        "\n",
        "This project is worth **10 marks** of your final grade plus **One bonus mark**. \n",
        "\n",
        "There is no explicit grading for vectorized coding for this project. The vectorized coding will be tested in Q6. The grade of that question will be given based upon the ranking of your training time. **\"Vectorized Coding\" => \"Faster Execution\" => Higher Grade! :)**\n",
        "\n",
        "This notebook is composed of two sections, a Tutorial, and an Exercise. \n",
        "\n",
        "The TAs in the lab will help you to complete your tutorial.\n"
      ]
    },
    {
      "cell_type": "markdown",
      "metadata": {
        "id": "zYG54vVSwTuZ",
        "colab_type": "text"
      },
      "source": [
        "##**Important Note:**\n",
        "\n",
        "\n",
        "\n",
        "1] Start this lab as early as possible, so that you understand concepts in Tutorial well & get enough time to implement Exercise. \n",
        " \n",
        "2] Provide a graphical representation of data wherever necessary.  \n",
        "\n",
        "3] This Project contains 6 questions worth a total of 10 points. Because projects will help\n",
        "you learn things that are complementary to what we covered in class, they should be completed on\n",
        "your own. Otherwise, you will not learn from taking this course and you are harming yourself."
      ]
    },
    {
      "cell_type": "markdown",
      "metadata": {
        "colab_type": "text",
        "id": "oLFrnQo9wA4H"
      },
      "source": [
        "## How to use this Notebook"
      ]
    },
    {
      "cell_type": "markdown",
      "metadata": {
        "colab_type": "text",
        "id": "Ryuq8mw8wA4J"
      },
      "source": [
        "1. Run the cells to get a bird's eye view of whats going on.\n",
        "2. Interact with the code to better understand how it works - add cells, plot values, change parameters, etc.\n",
        "3. (Optional) Replicate Linear Regression code on a blank notebook, without viewing this code. [This is called retrieval practice.](https://www.learningscientists.org/blog/2016/6/23-1)\n",
        "4. Complete exercises."
      ]
    },
    {
      "cell_type": "markdown",
      "metadata": {
        "colab_type": "text",
        "id": "Jn-UWaxnwA4K"
      },
      "source": [
        "## Linear Regression - Introduction"
      ]
    },
    {
      "cell_type": "markdown",
      "metadata": {
        "colab_type": "text",
        "id": "kS-L6yG_wA4L"
      },
      "source": [
        "### Linear Regression"
      ]
    },
    {
      "cell_type": "markdown",
      "metadata": {
        "id": "2mFMzlbcbcs0",
        "colab_type": "text"
      },
      "source": [
        "In statistics, linear regression is a linear approach to modelling the relationship between a dependent variable and one or more independent variables. Let X be the independent variable and Y be the dependent variable. We will define a linear relationship between these two variables as follows:"
      ]
    },
    {
      "cell_type": "markdown",
      "metadata": {
        "id": "R3JNdY_Cbcs0",
        "colab_type": "text"
      },
      "source": [
        "$y = wX + b$"
      ]
    },
    {
      "cell_type": "markdown",
      "metadata": {
        "id": "6YAZTV1Mbcs1",
        "colab_type": "text"
      },
      "source": [
        "This is the equation for a line that you studied in high school. w is the slope of the line and b is the y intercept. Today we will use this equation to train our model with a given dataset and predict the value of Y for any given value of X. Our challenge today is to determine the value of w and b, such that the line corresponding to those values is the best fitting line or gives the minimum error."
      ]
    },
    {
      "cell_type": "markdown",
      "metadata": {
        "id": "9ENvOgIIbcs1",
        "colab_type": "text"
      },
      "source": [
        "Are we always fitting a line into the data? What if we have more than 1 feature (independant variable)?"
      ]
    },
    {
      "cell_type": "markdown",
      "metadata": {
        "id": "_lhIIg3Pbcs2",
        "colab_type": "text"
      },
      "source": [
        "The vectorized form of above equation is written as $y = Xw$, where y and w are vectors while X is a matrix. \n",
        "\n",
        "Where is the b term? It is included within the X matrix.\n"
      ]
    },
    {
      "cell_type": "markdown",
      "metadata": {
        "id": "qyYxxkfAbcs2",
        "colab_type": "text"
      },
      "source": [
        "**Hypothesis of Linear Regression**"
      ]
    },
    {
      "cell_type": "markdown",
      "metadata": {
        "id": "KUz5wFvUbcs3",
        "colab_type": "text"
      },
      "source": [
        "The linear regression model can be represented by the following equation:"
      ]
    },
    {
      "cell_type": "markdown",
      "metadata": {
        "id": "VyqwDStzWaAB",
        "colab_type": "text"
      },
      "source": [
        "\n",
        "\n",
        "#$y= w_1x_1 + w_2x_2 + ......+w_nx_n + b(1)$\n",
        "\n"
      ]
    },
    {
      "cell_type": "markdown",
      "metadata": {
        "id": "qPdf8fFhaU50",
        "colab_type": "text"
      },
      "source": [
        "The bias term can further be incorporated into the quation as an additional weight with cofficient 1"
      ]
    },
    {
      "cell_type": "markdown",
      "metadata": {
        "id": "ADMnqhJDaeiF",
        "colab_type": "text"
      },
      "source": [
        "#$y= w_1x_1 + w_2x_2 + ......+w_nx_n + w_0(1)$"
      ]
    },
    {
      "cell_type": "markdown",
      "metadata": {
        "id": "q_aOnL22bcs4",
        "colab_type": "text"
      },
      "source": [
        "- Y is the predicted value ($h_w(x)$)\n",
        "- w₀ is the bias term.\n",
        "- w₁,…,wₙ are the model parameters\n",
        "- x₁, x₂,…,xₙ are the feature values."
      ]
    },
    {
      "cell_type": "markdown",
      "metadata": {
        "colab_type": "text",
        "id": "bD4i39QVwA4O"
      },
      "source": [
        "### LR - Procedure"
      ]
    },
    {
      "cell_type": "markdown",
      "metadata": {
        "id": "y6AiJnqnbcs5",
        "colab_type": "text"
      },
      "source": [
        "Our Loss function for Linear regression would be sum of squares, which makes the cost function to be:"
      ]
    },
    {
      "cell_type": "markdown",
      "metadata": {
        "id": "RUIa2Og3bcs5",
        "colab_type": "text"
      },
      "source": [
        "\n",
        "#$L(y,t)=\\frac{1}{2}\\ (y-t)^2$"
      ]
    },
    {
      "cell_type": "markdown",
      "metadata": {
        "id": "53bIKpy5bcs6",
        "colab_type": "text"
      },
      "source": [
        "Here t is the actual value and y is the predicted value. \n",
        "For the simplest case lets assume a straight line with folowing equation Lets substitute the value of y from $y = wx + b$:"
      ]
    },
    {
      "cell_type": "markdown",
      "metadata": {
        "id": "FZERyj_zcpku",
        "colab_type": "text"
      },
      "source": [
        "#$J=\\frac{1}{2N}[\\sum_{i=1}^N((wx^{(i)}+b)-t^{(i)})^2]$"
      ]
    },
    {
      "cell_type": "markdown",
      "metadata": {
        "id": "w5GC9wklbcs7",
        "colab_type": "text"
      },
      "source": [
        "Partial Derivative of the above equation with respect to w is shown here:\n"
      ]
    },
    {
      "cell_type": "markdown",
      "metadata": {
        "id": "wKB_CwH_dwfU",
        "colab_type": "text"
      },
      "source": [
        "#$\\frac{{\\partial J}}{\\partial w}=\\frac{1}{2N}[\\sum_{i=0}^N2((wx^{(i)}+b\n",
        ")-t^{(i)})(x^{(i)})]$\n",
        "\n",
        "#$\\frac{{\\partial J}}{\\partial w}=\\frac{1}{N}[\\sum_{i=0}^Nx^{(i)}(y^{(i)}-t^{(i)})]$"
      ]
    },
    {
      "cell_type": "markdown",
      "metadata": {
        "id": "T4bzLgyXbcs7",
        "colab_type": "text"
      },
      "source": [
        "While the Partial Derivative with respect to b is shown here\""
      ]
    },
    {
      "cell_type": "markdown",
      "metadata": {
        "id": "0wLmX5mAgslo",
        "colab_type": "text"
      },
      "source": [
        "#$\\frac{\\partial J}{\\partial b}=\\frac{1}{N}[\\sum_{i=0}^N(y^{(i)}-t^{(i)})]$"
      ]
    },
    {
      "cell_type": "markdown",
      "metadata": {
        "colab_type": "text",
        "id": "FNAgpf18wA4S"
      },
      "source": [
        "#### Analytical Approach for Linear Regression\n",
        "\n",
        "Can you derive the Analytical Solution for Linear Regression?"
      ]
    },
    {
      "cell_type": "markdown",
      "metadata": {
        "id": "9-vd5YWLbcs-",
        "colab_type": "text"
      },
      "source": [
        "We arrive at the analytical solution when we turn the partial derivatives with respect to the parameters to zero. Why?\n",
        "\n",
        "This is because at the point where cost function is at the minimum with respect to the parameters (w and b), the derivative of cost function with respect to the parameters would be zero."
      ]
    },
    {
      "cell_type": "markdown",
      "metadata": {
        "id": "o_qnAm8tbcs_",
        "colab_type": "text"
      },
      "source": [
        "The solution for the general case comes out to be:"
      ]
    },
    {
      "cell_type": "markdown",
      "metadata": {
        "id": "91CsuqsUbcs_",
        "colab_type": "text"
      },
      "source": [
        "#$w = (X^TX)^{-1}X^Tt$"
      ]
    },
    {
      "cell_type": "markdown",
      "metadata": {
        "id": "nuHJAOmvbctA",
        "colab_type": "text"
      },
      "source": [
        "With $L_2$ Regularization. Cost:"
      ]
    },
    {
      "cell_type": "markdown",
      "metadata": {
        "id": "eCDCGqdbbctB",
        "colab_type": "text"
      },
      "source": [
        "#$J(w) = \\frac{1}{2N}[\\sum_{i=1}^N(h_w (x^{(i)}) - t^{(i)})^2 + \\lambda\\sum_{j=1}^nw^2_j]$ "
      ]
    },
    {
      "cell_type": "markdown",
      "metadata": {
        "id": "w484FOiDbctC",
        "colab_type": "text"
      },
      "source": [
        "#$w = (X^TX + \\lambda I)^{-1}X^Tt$"
      ]
    },
    {
      "cell_type": "markdown",
      "metadata": {
        "colab_type": "text",
        "heading_collapsed": true,
        "id": "iQyQ3hA6bctC"
      },
      "source": [
        "#### Gradient Descent Solution"
      ]
    },
    {
      "cell_type": "markdown",
      "metadata": {
        "hidden": true,
        "id": "4nPHi1eSbctC",
        "colab_type": "text"
      },
      "source": [
        "Gradient descent uses the equations for gradient derived above to find the direction in which we tinker the values of our parameters w and b. "
      ]
    },
    {
      "cell_type": "markdown",
      "metadata": {
        "id": "YcGpaxKYh8tk",
        "colab_type": "text"
      },
      "source": [
        "# $w_j=w_j-\\alpha*\\frac{{\\partial J}}{\\partial w}$\n",
        "\n",
        "# $b_j=b_j-\\alpha*\\frac{{\\partial J}}{\\partial b}$"
      ]
    },
    {
      "cell_type": "markdown",
      "metadata": {
        "hidden": true,
        "id": "TmX3-0DYbctD",
        "colab_type": "text"
      },
      "source": [
        "Here the term $\\alpha$ is defined as the learning rate."
      ]
    },
    {
      "cell_type": "markdown",
      "metadata": {
        "colab_type": "text",
        "id": "K0JkLAQWbctE"
      },
      "source": [
        "#### Any other solutions methods?"
      ]
    },
    {
      "cell_type": "markdown",
      "metadata": {
        "id": "9A_OEn8VbctE",
        "colab_type": "text"
      },
      "source": [
        "Some other solution methods are QR Decomposition, Singular-Value Decomposition.\n",
        "\n",
        "- Do these methods give exact solutions?\n",
        "- Do these methods scale well with large datasets?"
      ]
    },
    {
      "cell_type": "markdown",
      "metadata": {
        "colab_type": "text",
        "id": "sxvjbQZibctF"
      },
      "source": [
        "## Let's Start"
      ]
    },
    {
      "cell_type": "markdown",
      "metadata": {
        "id": "VPNKfSh1bctG",
        "colab_type": "text"
      },
      "source": [
        "### Analytical Approach in Code\n",
        "\n",
        "Let's get our hands dirty."
      ]
    },
    {
      "cell_type": "code",
      "metadata": {
        "id": "_pUP_nOYbctG",
        "colab_type": "code",
        "outputId": "095e28b9-1ac0-4fad-fdf1-674fb1fe821d",
        "colab": {
          "base_uri": "https://localhost:8080/",
          "height": 70
        }
      },
      "source": [
        "import numpy as np\n",
        "import pandas as pd\n",
        "import matplotlib.pyplot as plt\n",
        "import seaborn as sns\n",
        "from sklearn.linear_model import LinearRegression\n",
        "from sklearn.linear_model import Ridge\n",
        "from sklearn.preprocessing import PolynomialFeatures\n",
        "from sklearn.metrics import mean_squared_error"
      ],
      "execution_count": 1,
      "outputs": [
        {
          "output_type": "stream",
          "text": [
            "/usr/local/lib/python3.6/dist-packages/statsmodels/tools/_testing.py:19: FutureWarning: pandas.util.testing is deprecated. Use the functions in the public API at pandas.testing instead.\n",
            "  import pandas.util.testing as tm\n"
          ],
          "name": "stderr"
        }
      ]
    },
    {
      "cell_type": "markdown",
      "metadata": {
        "id": "6aqKk5Q0rcMp",
        "colab_type": "text"
      },
      "source": [
        "##### We will start with fitting distribution of data points with a line followed by higher order polynomials to visualize the idea behind it."
      ]
    },
    {
      "cell_type": "code",
      "metadata": {
        "id": "g2s-ZTXtbctI",
        "colab_type": "code",
        "colab": {}
      },
      "source": [
        "n = 5 # number of points\n",
        "w = 2 # slope of line\n",
        "b = 4 # y intercept of line\n",
        "r = 2 # range of data on x-axis\n",
        "\n",
        "np.random.seed(2)\n",
        "x =  r*np.random.rand(n)\n",
        "x.sort()\n",
        "yPerf = w*x + b # perfect world: no noise\n",
        "y = w*x + b + np.random.randn(n) # imperfect world: we get noisy data"
      ],
      "execution_count": 0,
      "outputs": []
    },
    {
      "cell_type": "markdown",
      "metadata": {
        "id": "RlW5IUn5bctJ",
        "colab_type": "text"
      },
      "source": [
        "Spoiler Alert: We are in an Imperfect World."
      ]
    },
    {
      "cell_type": "code",
      "metadata": {
        "id": "lNe4w9CdbctJ",
        "colab_type": "code",
        "colab": {}
      },
      "source": [
        "def rmse(yPred, y):\n",
        "    return np.sqrt(mean_squared_error(yPred, y))"
      ],
      "execution_count": 0,
      "outputs": []
    },
    {
      "cell_type": "code",
      "metadata": {
        "id": "YmkB-_lpbctL",
        "colab_type": "code",
        "outputId": "d7e8d4a6-c637-4977-8c9a-c12eb42ab068",
        "colab": {
          "base_uri": "https://localhost:8080/",
          "height": 265
        }
      },
      "source": [
        "plt.plot(x, y, 'o', label='Data')\n",
        "plt.plot(x, yPerf, 'o-', label='Underlying Distribution')\n",
        "\n",
        "plt.legend()\n",
        "plt.show()"
      ],
      "execution_count": 4,
      "outputs": [
        {
          "output_type": "display_data",
          "data": {
            "image/png": "[encoded data removed]",
            "text/plain": [
              "<Figure size 432x288 with 1 Axes>"
            ]
          },
          "metadata": {
            "tags": []
          }
        }
      ]
    },
    {
      "cell_type": "code",
      "metadata": {
        "id": "xL7-QF9TbctN",
        "colab_type": "code",
        "colab": {}
      },
      "source": [
        "x = np.vstack((np.ones(np.shape(x)), x)).T\n",
        "y = y.reshape(-1, 1)"
      ],
      "execution_count": 0,
      "outputs": []
    },
    {
      "cell_type": "code",
      "metadata": {
        "id": "70gnrF0XbctO",
        "colab_type": "code",
        "colab": {}
      },
      "source": [
        "# analytical solution\n",
        "W = np.dot(np.linalg.inv(np.dot(x.T, x)), np.dot(x.T, y))\n",
        "\n",
        "# prediction\n",
        "yPred = np.dot(x, W)"
      ],
      "execution_count": 0,
      "outputs": []
    },
    {
      "cell_type": "code",
      "metadata": {
        "id": "zJqxsROhPEGw",
        "colab_type": "code",
        "outputId": "59fcca35-e2a9-489a-cde5-03935dfe1d32",
        "colab": {
          "base_uri": "https://localhost:8080/",
          "height": 34
        }
      },
      "source": [
        "W[0],W[1]"
      ],
      "execution_count": 7,
      "outputs": [
        {
          "output_type": "execute_result",
          "data": {
            "text/plain": [
              "(array([2.67741212]), array([3.35314632]))"
            ]
          },
          "metadata": {
            "tags": []
          },
          "execution_count": 7
        }
      ]
    },
    {
      "cell_type": "markdown",
      "metadata": {
        "id": "vlvll92zbctS",
        "colab_type": "text"
      },
      "source": [
        "- How similar are these to the values we had set initially?\n",
        "- Will they be same as those set initially if there was no noise?"
      ]
    },
    {
      "cell_type": "code",
      "metadata": {
        "id": "NyxfDFgfbctS",
        "colab_type": "code",
        "outputId": "87036af0-3c46-4773-affe-d1b644919974",
        "colab": {
          "base_uri": "https://localhost:8080/",
          "height": 265
        }
      },
      "source": [
        "plt.plot(x[:, 1], y, 'o', label='Data')\n",
        "plt.plot(x[:, 1], yPerf, 'o-', label='Underlying Distribution')\n",
        "plt.plot(x[:, 1], yPred, 'o-', label='Predicted')\n",
        "\n",
        "plt.legend()\n",
        "plt.show()"
      ],
      "execution_count": 8,
      "outputs": [
        {
          "output_type": "display_data",
          "data": {
            "image/png": "[encoded data removed]",
            "text/plain": [
              "<Figure size 432x288 with 1 Axes>"
            ]
          },
          "metadata": {
            "tags": []
          }
        }
      ]
    },
    {
      "cell_type": "code",
      "metadata": {
        "id": "2l5yQVtFbctU",
        "colab_type": "code",
        "outputId": "2146a6e0-49b6-4e75-dc96-7d0d2558e6cc",
        "colab": {
          "base_uri": "https://localhost:8080/",
          "height": 34
        }
      },
      "source": [
        "print('RMSE: ', rmse(yPred, y))"
      ],
      "execution_count": 9,
      "outputs": [
        {
          "output_type": "stream",
          "text": [
            "RMSE:  0.8321853483360432\n"
          ],
          "name": "stdout"
        }
      ]
    },
    {
      "cell_type": "markdown",
      "metadata": {
        "id": "o3ZG5e0YbctW",
        "colab_type": "text"
      },
      "source": [
        "### Complex Dependant Variable\n",
        "\n",
        "It's complicated."
      ]
    },
    {
      "cell_type": "code",
      "metadata": {
        "id": "T9eFKueSbctX",
        "colab_type": "code",
        "colab": {}
      },
      "source": [
        "n = 20 # number of points\n",
        "w = 3  # slope of line\n",
        "b = 10 # y intercept of line\n",
        "r = 2  # range of data on x-axis\n",
        "\n",
        "np.random.seed(10)\n",
        "X = xD = r * np.random.randn(n) # points also stored in xD (xData). will be useful later.\n",
        "X.sort()\n",
        "yPerf = X - 2 * (X ** 2) + 0.5 * (X ** 3)\n",
        "np.random.seed(10)\n",
        "y = X - 2 * (X ** 2) + 0.5 * (X ** 3) + np.random.normal(0, 5, n) # imperfect world: we get noisy data"
      ],
      "execution_count": 0,
      "outputs": []
    },
    {
      "cell_type": "code",
      "metadata": {
        "id": "OFpKR94YbctY",
        "colab_type": "code",
        "outputId": "18b8e179-6041-4118-b9bd-6f7daf440f65",
        "colab": {
          "base_uri": "https://localhost:8080/",
          "height": 265
        }
      },
      "source": [
        "plt.plot(X, y, 'o', label='Data')\n",
        "plt.plot(X, yPerf, 'o-', label='Underlying Distribution')\n",
        "\n",
        "plt.legend()\n",
        "plt.show()"
      ],
      "execution_count": 11,
      "outputs": [
        {
          "output_type": "display_data",
          "data": {
            "image/png": "[encoded data removed]",
            "text/plain": [
              "<Figure size 432x288 with 1 Axes>"
            ]
          },
          "metadata": {
            "tags": []
          }
        }
      ]
    },
    {
      "cell_type": "code",
      "metadata": {
        "id": "kAwZSKq7nU9r",
        "colab_type": "code",
        "colab": {}
      },
      "source": [
        "X = np.vstack((np.ones(np.shape(X)), X)).T\n",
        "y = y.reshape(-1, 1)"
      ],
      "execution_count": 0,
      "outputs": []
    },
    {
      "cell_type": "code",
      "metadata": {
        "id": "GZy6EK4Mbctb",
        "colab_type": "code",
        "outputId": "995b8da8-40f0-41bd-bfe1-11eb592c844f",
        "colab": {
          "base_uri": "https://localhost:8080/",
          "height": 50
        }
      },
      "source": [
        "# analytical solution\n",
        "W = np.dot(np.linalg.inv(np.dot(X.T, X)), np.dot(X.T, y))\n",
        "\n",
        "# prediction\n",
        "yPredLinear = yPred = np.dot(X, W)\n",
        "\n",
        "W"
      ],
      "execution_count": 13,
      "outputs": [
        {
          "output_type": "execute_result",
          "data": {
            "text/plain": [
              "array([[-5.45917353],\n",
              "       [ 3.82202654]])"
            ]
          },
          "metadata": {
            "tags": []
          },
          "execution_count": 13
        }
      ]
    },
    {
      "cell_type": "code",
      "metadata": {
        "id": "NS_2S74qbctc",
        "colab_type": "code",
        "outputId": "026a03d4-579f-4e4b-d4ce-da8c6076ad7e",
        "colab": {
          "base_uri": "https://localhost:8080/",
          "height": 265
        }
      },
      "source": [
        "plt.plot(xD, y, 'o', label='Data')\n",
        "plt.plot(xD, yPerf, 'o-', label='Underlying Distribution')\n",
        "plt.plot(xD, yPred, 'o-', label='Predicted')\n",
        "\n",
        "plt.legend()\n",
        "plt.show()"
      ],
      "execution_count": 14,
      "outputs": [
        {
          "output_type": "display_data",
          "data": {
            "image/png": "[encoded data removed]",
            "text/plain": [
              "<Figure size 432x288 with 1 Axes>"
            ]
          },
          "metadata": {
            "tags": []
          }
        }
      ]
    },
    {
      "cell_type": "code",
      "metadata": {
        "id": "NkKlZkKkbctd",
        "colab_type": "code",
        "outputId": "934a6ad9-042c-4429-b758-51a40269bfb3",
        "colab": {
          "base_uri": "https://localhost:8080/",
          "height": 34
        }
      },
      "source": [
        "print('RMSE: ', rmse(yPred, y))"
      ],
      "execution_count": 15,
      "outputs": [
        {
          "output_type": "stream",
          "text": [
            "RMSE:  6.839531223681816\n"
          ],
          "name": "stdout"
        }
      ]
    },
    {
      "cell_type": "markdown",
      "metadata": {
        "id": "S6zNdggSbctf",
        "colab_type": "text"
      },
      "source": [
        "#### What to do next?\n",
        "\n",
        "Can we add more features."
      ]
    },
    {
      "cell_type": "code",
      "metadata": {
        "id": "zIDKcjBKbctf",
        "colab_type": "code",
        "colab": {}
      },
      "source": [
        "X = np.vstack((X.T, xD**2, xD**3)).T\n"
      ],
      "execution_count": 0,
      "outputs": []
    },
    {
      "cell_type": "code",
      "metadata": {
        "id": "XlhuePv2bcth",
        "colab_type": "code",
        "outputId": "cf7b78d8-3dea-4ba6-e1af-c79aae92c3a5",
        "colab": {
          "base_uri": "https://localhost:8080/",
          "height": 84
        }
      },
      "source": [
        "# analytical solution\n",
        "W = np.dot(np.linalg.inv(np.dot(X.T, X)), np.dot(X.T, y))\n",
        "\n",
        "# prediction\n",
        "yPred4Feature = yPred = np.dot(X, W)\n",
        "W"
      ],
      "execution_count": 17,
      "outputs": [
        {
          "output_type": "execute_result",
          "data": {
            "text/plain": [
              "array([[ 0.04177438],\n",
              "       [ 2.58652514],\n",
              "       [-1.87142105],\n",
              "       [ 0.19655185]])"
            ]
          },
          "metadata": {
            "tags": []
          },
          "execution_count": 17
        }
      ]
    },
    {
      "cell_type": "code",
      "metadata": {
        "id": "As3fF2SMbctj",
        "colab_type": "code",
        "outputId": "a8471ac1-d6a6-46ba-c489-7381c03712b7",
        "colab": {
          "base_uri": "https://localhost:8080/",
          "height": 265
        }
      },
      "source": [
        "plt.plot(xD, y, 'o', label='Data')\n",
        "plt.plot(xD, yPerf, 'o-', label='Underlying Distribution')\n",
        "plt.plot(xD, yPred, 'o-', label='Predicted')\n",
        "\n",
        "plt.legend()\n",
        "plt.show()"
      ],
      "execution_count": 18,
      "outputs": [
        {
          "output_type": "display_data",
          "data": {
            "image/png": "[encoded data removed]",
            "text/plain": [
              "<Figure size 432x288 with 1 Axes>"
            ]
          },
          "metadata": {
            "tags": []
          }
        }
      ]
    },
    {
      "cell_type": "code",
      "metadata": {
        "id": "q4w21j3Wbctl",
        "colab_type": "code",
        "outputId": "ec1fe476-bd6b-4e5e-c257-34f2aeef92b5",
        "colab": {
          "base_uri": "https://localhost:8080/",
          "height": 34
        }
      },
      "source": [
        "print('RMSE: ', rmse(yPred, y))"
      ],
      "execution_count": 19,
      "outputs": [
        {
          "output_type": "stream",
          "text": [
            "RMSE:  3.929493007090521\n"
          ],
          "name": "stdout"
        }
      ]
    },
    {
      "cell_type": "markdown",
      "metadata": {
        "id": "6UVOla-Obctm",
        "colab_type": "text"
      },
      "source": [
        "But how do we know when to stop, since we would not be knowing when to stop adding features in x."
      ]
    },
    {
      "cell_type": "code",
      "metadata": {
        "id": "a1dphgtbbctm",
        "colab_type": "code",
        "colab": {}
      },
      "source": [
        "X = np.vstack((X.T, xD**4, xD**5, xD**6, xD**7)).T"
      ],
      "execution_count": 0,
      "outputs": []
    },
    {
      "cell_type": "code",
      "metadata": {
        "id": "_9_6iGtVbcto",
        "colab_type": "code",
        "colab": {}
      },
      "source": [
        "# analytical solution\n",
        "W = np.dot(np.linalg.inv(np.dot(X.T, X)), np.dot(X.T, y))\n",
        "\n",
        "# prediction\n",
        "yPred8Feature = yPred = np.dot(X, W)\n"
      ],
      "execution_count": 0,
      "outputs": []
    },
    {
      "cell_type": "code",
      "metadata": {
        "id": "hz8q4G9Vbctp",
        "colab_type": "code",
        "outputId": "fb773677-7f4b-4cf0-e05a-910330e807fa",
        "colab": {
          "base_uri": "https://localhost:8080/",
          "height": 151
        }
      },
      "source": [
        "W"
      ],
      "execution_count": 22,
      "outputs": [
        {
          "output_type": "execute_result",
          "data": {
            "text/plain": [
              "array([[-2.64611130e-01],\n",
              "       [ 8.28612458e+00],\n",
              "       [-2.07703327e+00],\n",
              "       [-6.35661778e+00],\n",
              "       [-1.30720676e-02],\n",
              "       [ 1.64293567e+00],\n",
              "       [-2.08380043e-03],\n",
              "       [-1.09229711e-01]])"
            ]
          },
          "metadata": {
            "tags": []
          },
          "execution_count": 22
        }
      ]
    },
    {
      "cell_type": "code",
      "metadata": {
        "id": "9wVphfLKbctq",
        "colab_type": "code",
        "outputId": "855dcb56-7f5e-41b3-d157-7c3e2a1d40f6",
        "colab": {
          "base_uri": "https://localhost:8080/",
          "height": 265
        }
      },
      "source": [
        "plt.plot(xD, y, 'o', label='Data')\n",
        "plt.plot(xD, yPerf, 'o-', label='Underlying Distribution')\n",
        "plt.plot(xD, yPred, 'o-', label='Predicted')\n",
        "\n",
        "plt.legend()\n",
        "plt.show()"
      ],
      "execution_count": 23,
      "outputs": [
        {
          "output_type": "display_data",
          "data": {
            "image/png": "[encoded data removed]",
            "text/plain": [
              "<Figure size 432x288 with 1 Axes>"
            ]
          },
          "metadata": {
            "tags": []
          }
        }
      ]
    },
    {
      "cell_type": "code",
      "metadata": {
        "id": "sB5FgxqCbcts",
        "colab_type": "code",
        "outputId": "2f3763df-0042-4dcf-eeb9-752953000611",
        "colab": {
          "base_uri": "https://localhost:8080/",
          "height": 34
        }
      },
      "source": [
        "print('RMSE: ', rmse(yPred, y))"
      ],
      "execution_count": 24,
      "outputs": [
        {
          "output_type": "stream",
          "text": [
            "RMSE:  3.3097843019929725\n"
          ],
          "name": "stdout"
        }
      ]
    },
    {
      "cell_type": "markdown",
      "metadata": {
        "id": "bjUKcac3bctt",
        "colab_type": "text"
      },
      "source": [
        "Even though RMSE here (with much more higher features) is lower than previous case, we can see this Predicted Line is quite far from the Underlying distribution. This is called **Overfitting**."
      ]
    },
    {
      "cell_type": "markdown",
      "metadata": {
        "id": "mbgmXOxdbctu",
        "colab_type": "text"
      },
      "source": [
        "When does the model overfits: when we have more features or comparitively less data for the model.\n",
        "\n",
        "What exactly is overfitting:\n",
        "It pays more attention to the noise of the data provided, in a sense trying to rotely memorize everything, \n",
        "without generalizing. \n",
        "\n",
        "Since we don't know when to stop adding features, what can be done:\n",
        "- Solution is to work with a model or feature set that can slightly overfit your data, and then use techniques to prevent overfitting from happening.\n",
        "The alternative gives us underfitting which we cannot fix unless you modify the feature set or model.\n",
        "\n",
        "Options we have to prevent overfitting. Well there are many, most widely used ones are\n",
        "- Using a validation set\n",
        "- Regularization: add penalty on weights"
      ]
    },
    {
      "cell_type": "code",
      "metadata": {
        "id": "XZxmLfzjbctu",
        "colab_type": "code",
        "colab": {}
      },
      "source": [
        "λ = 10 # what is lambda: regularization parameter\n",
        "f = 8 # number of features"
      ],
      "execution_count": 0,
      "outputs": []
    },
    {
      "cell_type": "code",
      "metadata": {
        "id": "EWvLnUOTbctw",
        "colab_type": "code",
        "outputId": "f6aa7788-5c24-42c6-b11f-2b60a20e94b8",
        "colab": {
          "base_uri": "https://localhost:8080/",
          "height": 151
        }
      },
      "source": [
        "# analytical solution\n",
        "Warning = np.dot(np.linalg.inv(np.dot(X.T, X) + (λ)*np.identity(f)), np.dot(X.T, y))\n",
        "\n",
        "# prediction\n",
        "yPred8FeatRegu = yPred = np.dot(X, W)\n",
        "W\n"
      ],
      "execution_count": 26,
      "outputs": [
        {
          "output_type": "execute_result",
          "data": {
            "text/plain": [
              "array([[-2.64611130e-01],\n",
              "       [ 8.28612458e+00],\n",
              "       [-2.07703327e+00],\n",
              "       [-6.35661778e+00],\n",
              "       [-1.30720676e-02],\n",
              "       [ 1.64293567e+00],\n",
              "       [-2.08380043e-03],\n",
              "       [-1.09229711e-01]])"
            ]
          },
          "metadata": {
            "tags": []
          },
          "execution_count": 26
        }
      ]
    },
    {
      "cell_type": "code",
      "metadata": {
        "id": "CQiyDIi_bctx",
        "colab_type": "code",
        "outputId": "e46dacb6-16ef-48ec-b3c9-dceb3fe87911",
        "colab": {
          "base_uri": "https://localhost:8080/",
          "height": 265
        }
      },
      "source": [
        "plt.plot(xD, y, 'o', label='Data')\n",
        "plt.plot(xD, yPerf, 'o-', label='Underlying Distribution')\n",
        "plt.plot(xD, yPred, 'o-', label='Predicted')\n",
        "\n",
        "plt.legend()\n",
        "plt.show()"
      ],
      "execution_count": 27,
      "outputs": [
        {
          "output_type": "display_data",
          "data": {
            "image/png": "[encoded data removed]",
            "text/plain": [
              "<Figure size 432x288 with 1 Axes>"
            ]
          },
          "metadata": {
            "tags": []
          }
        }
      ]
    },
    {
      "cell_type": "markdown",
      "metadata": {
        "id": "gw4mgsnbbct0",
        "colab_type": "text"
      },
      "source": [
        "Can we know from the plot if the value of λ is optimal:\n",
        "\n",
        "Somewhat but not exactly. \n",
        "\n",
        "To get the exact value of lambda you need to split dataset between training and testing. Then cycle over multiple values of lambda. The most optimum is the one which gives the lowest test error. \n",
        "\n",
        "What does low test error represent?"
      ]
    },
    {
      "cell_type": "markdown",
      "metadata": {
        "id": "mcSDizyQbct0",
        "colab_type": "text"
      },
      "source": [
        "All models together:"
      ]
    },
    {
      "cell_type": "code",
      "metadata": {
        "id": "jCYdZCQRbct1",
        "colab_type": "code",
        "outputId": "f0d351e7-7345-4fd5-b00b-ec9c8d18743e",
        "colab": {
          "base_uri": "https://localhost:8080/",
          "height": 483
        }
      },
      "source": [
        "plt.figure(figsize=(12, 8))\n",
        "plt.plot(xD, y, 'o', label='Data')\n",
        "plt.plot(xD, yPerf, 'o-', label='Underlying Distribution')\n",
        "plt.plot(xD, yPredLinear, 'o-', label='2 Feature')\n",
        "plt.plot(xD, yPred4Feature, 'o-', label='4 Feature')\n",
        "plt.plot(xD, yPred8Feature, 'o-', label='8 Feature')\n",
        "plt.plot(xD, yPred8FeatRegu, 'o-', label='8 Feature Regularized')\n",
        "\n",
        "plt.legend()\n",
        "plt.show()"
      ],
      "execution_count": 28,
      "outputs": [
        {
          "output_type": "display_data",
          "data": {
            "image/png": "[encoded data removed]",
            "text/plain": [
              "<Figure size 864x576 with 1 Axes>"
            ]
          },
          "metadata": {
            "tags": []
          }
        }
      ]
    },
    {
      "cell_type": "markdown",
      "metadata": {
        "id": "oVKTzp4Hbct2",
        "colab_type": "text"
      },
      "source": [
        "### Further Complex Multivariate Data"
      ]
    },
    {
      "cell_type": "markdown",
      "metadata": {
        "id": "Y62qieYVbct2",
        "colab_type": "text"
      },
      "source": [
        "We will take the Housing dataset which contains information about different houses in Boston. This data was originally a part of UCI Machine Learning Repository and has been removed now. We can also access this data from the scikit-learn library. Three additional feature were added to this dataset using feature engineering.The objective is to predict the value of prices of the house using the given features. You can download the data by running the cell below.\n"
      ]
    },
    {
      "cell_type": "code",
      "metadata": {
        "id": "wVI7N2nWbct3",
        "colab_type": "code",
        "colab": {}
      },
      "source": [
        "df=pd.read_csv(\"https://raw.githubusercontent.com/Saket-Uoft/Data/master/data.csv\")"
      ],
      "execution_count": 0,
      "outputs": []
    },
    {
      "cell_type": "code",
      "metadata": {
        "id": "oIstAmPEbct5",
        "colab_type": "code",
        "outputId": "592c7f15-6959-477a-feb3-1459383c1fad",
        "colab": {
          "base_uri": "https://localhost:8080/",
          "height": 195
        }
      },
      "source": [
        "df.head()"
      ],
      "execution_count": 30,
      "outputs": [
        {
          "output_type": "execute_result",
          "data": {
            "text/html": [
              "<div>\n",
              "<style scoped>\n",
              "    .dataframe tbody tr th:only-of-type {\n",
              "        vertical-align: middle;\n",
              "    }\n",
              "\n",
              "    .dataframe tbody tr th {\n",
              "        vertical-align: top;\n",
              "    }\n",
              "\n",
              "    .dataframe thead th {\n",
              "        text-align: right;\n",
              "    }\n",
              "</style>\n",
              "<table border=\"1\" class=\"dataframe\">\n",
              "  <thead>\n",
              "    <tr style=\"text-align: right;\">\n",
              "      <th></th>\n",
              "      <th>Unnamed: 0</th>\n",
              "      <th>CRIM</th>\n",
              "      <th>ZN</th>\n",
              "      <th>INDUS</th>\n",
              "      <th>CHAS</th>\n",
              "      <th>NOX</th>\n",
              "      <th>RM</th>\n",
              "      <th>AGE</th>\n",
              "      <th>DIS</th>\n",
              "      <th>RAD</th>\n",
              "      <th>TAX</th>\n",
              "      <th>PTRATIO</th>\n",
              "      <th>B</th>\n",
              "      <th>LSTAT</th>\n",
              "      <th>New</th>\n",
              "      <th>New1</th>\n",
              "      <th>New2</th>\n",
              "      <th>MEDV</th>\n",
              "    </tr>\n",
              "  </thead>\n",
              "  <tbody>\n",
              "    <tr>\n",
              "      <th>0</th>\n",
              "      <td>0</td>\n",
              "      <td>0.00632</td>\n",
              "      <td>18.0</td>\n",
              "      <td>2.31</td>\n",
              "      <td>0.0</td>\n",
              "      <td>0.538</td>\n",
              "      <td>6.575</td>\n",
              "      <td>65.2</td>\n",
              "      <td>4.0900</td>\n",
              "      <td>1.0</td>\n",
              "      <td>296.0</td>\n",
              "      <td>15.3</td>\n",
              "      <td>396.90</td>\n",
              "      <td>4.98</td>\n",
              "      <td>20.31</td>\n",
              "      <td>0.0</td>\n",
              "      <td>13231.610</td>\n",
              "      <td>24.0</td>\n",
              "    </tr>\n",
              "    <tr>\n",
              "      <th>1</th>\n",
              "      <td>1</td>\n",
              "      <td>0.02731</td>\n",
              "      <td>0.0</td>\n",
              "      <td>7.07</td>\n",
              "      <td>0.0</td>\n",
              "      <td>0.469</td>\n",
              "      <td>6.421</td>\n",
              "      <td>78.9</td>\n",
              "      <td>4.9671</td>\n",
              "      <td>2.0</td>\n",
              "      <td>242.0</td>\n",
              "      <td>17.8</td>\n",
              "      <td>396.90</td>\n",
              "      <td>9.14</td>\n",
              "      <td>7.07</td>\n",
              "      <td>0.0</td>\n",
              "      <td>12038.120</td>\n",
              "      <td>21.6</td>\n",
              "    </tr>\n",
              "    <tr>\n",
              "      <th>2</th>\n",
              "      <td>2</td>\n",
              "      <td>0.02729</td>\n",
              "      <td>0.0</td>\n",
              "      <td>7.07</td>\n",
              "      <td>0.0</td>\n",
              "      <td>0.469</td>\n",
              "      <td>7.185</td>\n",
              "      <td>61.1</td>\n",
              "      <td>4.9671</td>\n",
              "      <td>2.0</td>\n",
              "      <td>242.0</td>\n",
              "      <td>17.8</td>\n",
              "      <td>392.83</td>\n",
              "      <td>4.03</td>\n",
              "      <td>7.07</td>\n",
              "      <td>0.0</td>\n",
              "      <td>7797.856</td>\n",
              "      <td>34.7</td>\n",
              "    </tr>\n",
              "    <tr>\n",
              "      <th>3</th>\n",
              "      <td>3</td>\n",
              "      <td>0.03237</td>\n",
              "      <td>0.0</td>\n",
              "      <td>2.18</td>\n",
              "      <td>0.0</td>\n",
              "      <td>0.458</td>\n",
              "      <td>6.998</td>\n",
              "      <td>45.8</td>\n",
              "      <td>6.0622</td>\n",
              "      <td>3.0</td>\n",
              "      <td>222.0</td>\n",
              "      <td>18.7</td>\n",
              "      <td>394.63</td>\n",
              "      <td>2.94</td>\n",
              "      <td>2.18</td>\n",
              "      <td>0.0</td>\n",
              "      <td>2790.959</td>\n",
              "      <td>33.4</td>\n",
              "    </tr>\n",
              "    <tr>\n",
              "      <th>4</th>\n",
              "      <td>4</td>\n",
              "      <td>0.06905</td>\n",
              "      <td>0.0</td>\n",
              "      <td>2.18</td>\n",
              "      <td>0.0</td>\n",
              "      <td>0.458</td>\n",
              "      <td>7.147</td>\n",
              "      <td>54.2</td>\n",
              "      <td>6.0622</td>\n",
              "      <td>3.0</td>\n",
              "      <td>222.0</td>\n",
              "      <td>18.7</td>\n",
              "      <td>396.90</td>\n",
              "      <td>5.33</td>\n",
              "      <td>2.18</td>\n",
              "      <td>0.0</td>\n",
              "      <td>4615.700</td>\n",
              "      <td>36.2</td>\n",
              "    </tr>\n",
              "  </tbody>\n",
              "</table>\n",
              "</div>"
            ],
            "text/plain": [
              "   Unnamed: 0     CRIM    ZN  INDUS  CHAS  ...  LSTAT    New  New1       New2  MEDV\n",
              "0           0  0.00632  18.0   2.31   0.0  ...   4.98  20.31   0.0  13231.610  24.0\n",
              "1           1  0.02731   0.0   7.07   0.0  ...   9.14   7.07   0.0  12038.120  21.6\n",
              "2           2  0.02729   0.0   7.07   0.0  ...   4.03   7.07   0.0   7797.856  34.7\n",
              "3           3  0.03237   0.0   2.18   0.0  ...   2.94   2.18   0.0   2790.959  33.4\n",
              "4           4  0.06905   0.0   2.18   0.0  ...   5.33   2.18   0.0   4615.700  36.2\n",
              "\n",
              "[5 rows x 18 columns]"
            ]
          },
          "metadata": {
            "tags": []
          },
          "execution_count": 30
        }
      ]
    },
    {
      "cell_type": "markdown",
      "metadata": {
        "id": "94KuAUYObct8",
        "colab_type": "text"
      },
      "source": [
        "We can see that the target value is given by name by the name MEDV "
      ]
    },
    {
      "cell_type": "markdown",
      "metadata": {
        "id": "JaZo0Cjgbct-",
        "colab_type": "text"
      },
      "source": [
        "Are there any null values in the dataset?"
      ]
    },
    {
      "cell_type": "code",
      "metadata": {
        "id": "pogI_Oxwbct_",
        "colab_type": "code",
        "outputId": "a829b761-943e-4d22-d866-ff6992f74a6d",
        "colab": {
          "base_uri": "https://localhost:8080/",
          "height": 336
        }
      },
      "source": [
        "df.isnull().sum()"
      ],
      "execution_count": 31,
      "outputs": [
        {
          "output_type": "execute_result",
          "data": {
            "text/plain": [
              "Unnamed: 0    0\n",
              "CRIM          0\n",
              "ZN            0\n",
              "INDUS         0\n",
              "CHAS          0\n",
              "NOX           0\n",
              "RM            0\n",
              "AGE           0\n",
              "DIS           0\n",
              "RAD           0\n",
              "TAX           0\n",
              "PTRATIO       0\n",
              "B             0\n",
              "LSTAT         0\n",
              "New           0\n",
              "New1          0\n",
              "New2          0\n",
              "MEDV          0\n",
              "dtype: int64"
            ]
          },
          "metadata": {
            "tags": []
          },
          "execution_count": 31
        }
      ]
    },
    {
      "cell_type": "markdown",
      "metadata": {
        "id": "MtEhLGisbcuA",
        "colab_type": "text"
      },
      "source": [
        "Even though there are none, it's a good practice to check."
      ]
    },
    {
      "cell_type": "markdown",
      "metadata": {
        "id": "KJeJAOaXbcuA",
        "colab_type": "text"
      },
      "source": [
        "#### Exploratory Data Analysis"
      ]
    },
    {
      "cell_type": "markdown",
      "metadata": {
        "id": "P_9C21cDbcuA",
        "colab_type": "text"
      },
      "source": [
        "We here use distplot method from the seaborn library, which is another popular graphing library for Python."
      ]
    },
    {
      "cell_type": "code",
      "metadata": {
        "id": "nDib1k9C22Tc",
        "colab_type": "code",
        "outputId": "e2c34580-4fb0-42dd-d254-12733087c713",
        "colab": {
          "base_uri": "https://localhost:8080/",
          "height": 557
        }
      },
      "source": [
        "sns.set(rc={'figure.figsize':(12, 9)})\n",
        "sns.distplot(df['MEDV'], bins=30)\n",
        "plt.show()"
      ],
      "execution_count": 32,
      "outputs": [
        {
          "output_type": "display_data",
          "data": {
            "image/png": "[encoded data removed]",
            "text/plain": [
              "<Figure size 864x648 with 1 Axes>"
            ]
          },
          "metadata": {
            "tags": []
          }
        }
      ]
    },
    {
      "cell_type": "markdown",
      "metadata": {
        "id": "wyrv1OqrbcuC",
        "colab_type": "text"
      },
      "source": [
        "We can see that it mostly normally distributed with a few outliers."
      ]
    },
    {
      "cell_type": "markdown",
      "metadata": {
        "colab_type": "text",
        "id": "6tehit023NGh"
      },
      "source": [
        "## Linear Regression - Exercise"
      ]
    },
    {
      "cell_type": "markdown",
      "metadata": {
        "colab_type": "text",
        "id": "OGK3wZlm3NGj"
      },
      "source": [
        "We'll work with the above dataset for the assignment below."
      ]
    },
    {
      "cell_type": "markdown",
      "metadata": {
        "colab_type": "text",
        "id": "o4UwjkNZ3NGk"
      },
      "source": [
        "## Question 1 - Data Prepration [1 mark]"
      ]
    },
    {
      "cell_type": "markdown",
      "metadata": {
        "colab_type": "text",
        "id": "MKRMb9Ju3NGl"
      },
      "source": [
        "1. Normalize the data using StandardScaler from sklearn.\n",
        "2. Split the multivariate data into training/validation data- 20% validation data, 80% training data (Note: While splitting use the value of random state=6)\n",
        "3. Standardize the data."
      ]
    },
    {
      "cell_type": "code",
      "metadata": {
        "id": "KDMBRXxyzDRe",
        "colab_type": "code",
        "colab": {}
      },
      "source": [
        "import numpy as np\n",
        "import pandas as pd\n",
        "import matplotlib.pyplot as plt\n",
        "import seaborn as sns\n",
        "from sklearn.linear_model import LinearRegression\n",
        "from sklearn.linear_model import Ridge\n",
        "from sklearn.preprocessing import PolynomialFeatures\n",
        "from sklearn.metrics import mean_squared_error\n",
        "from sklearn.preprocessing import StandardScaler\n",
        "from sklearn.model_selection import train_test_split, cross_val_score"
      ],
      "execution_count": 0,
      "outputs": []
    },
    {
      "cell_type": "code",
      "metadata": {
        "id": "_quk9BtOZ_tK",
        "colab_type": "code",
        "colab": {}
      },
      "source": [
        "df=pd.read_csv(\"https://raw.githubusercontent.com/Saket-Uoft/Data/master/data.csv\")"
      ],
      "execution_count": 0,
      "outputs": []
    },
    {
      "cell_type": "code",
      "metadata": {
        "id": "aILK4vJJbGqG",
        "colab_type": "code",
        "outputId": "529ae5a1-6cf3-4d38-a050-1fbda7636268",
        "colab": {
          "base_uri": "https://localhost:8080/",
          "height": 195
        }
      },
      "source": [
        "df = df.drop([\"Unnamed: 0\"], axis = 1)\n",
        "df.head()"
      ],
      "execution_count": 35,
      "outputs": [
        {
          "output_type": "execute_result",
          "data": {
            "text/html": [
              "<div>\n",
              "<style scoped>\n",
              "    .dataframe tbody tr th:only-of-type {\n",
              "        vertical-align: middle;\n",
              "    }\n",
              "\n",
              "    .dataframe tbody tr th {\n",
              "        vertical-align: top;\n",
              "    }\n",
              "\n",
              "    .dataframe thead th {\n",
              "        text-align: right;\n",
              "    }\n",
              "</style>\n",
              "<table border=\"1\" class=\"dataframe\">\n",
              "  <thead>\n",
              "    <tr style=\"text-align: right;\">\n",
              "      <th></th>\n",
              "      <th>CRIM</th>\n",
              "      <th>ZN</th>\n",
              "      <th>INDUS</th>\n",
              "      <th>CHAS</th>\n",
              "      <th>NOX</th>\n",
              "      <th>RM</th>\n",
              "      <th>AGE</th>\n",
              "      <th>DIS</th>\n",
              "      <th>RAD</th>\n",
              "      <th>TAX</th>\n",
              "      <th>PTRATIO</th>\n",
              "      <th>B</th>\n",
              "      <th>LSTAT</th>\n",
              "      <th>New</th>\n",
              "      <th>New1</th>\n",
              "      <th>New2</th>\n",
              "      <th>MEDV</th>\n",
              "    </tr>\n",
              "  </thead>\n",
              "  <tbody>\n",
              "    <tr>\n",
              "      <th>0</th>\n",
              "      <td>0.00632</td>\n",
              "      <td>18.0</td>\n",
              "      <td>2.31</td>\n",
              "      <td>0.0</td>\n",
              "      <td>0.538</td>\n",
              "      <td>6.575</td>\n",
              "      <td>65.2</td>\n",
              "      <td>4.0900</td>\n",
              "      <td>1.0</td>\n",
              "      <td>296.0</td>\n",
              "      <td>15.3</td>\n",
              "      <td>396.90</td>\n",
              "      <td>4.98</td>\n",
              "      <td>20.31</td>\n",
              "      <td>0.0</td>\n",
              "      <td>13231.610</td>\n",
              "      <td>24.0</td>\n",
              "    </tr>\n",
              "    <tr>\n",
              "      <th>1</th>\n",
              "      <td>0.02731</td>\n",
              "      <td>0.0</td>\n",
              "      <td>7.07</td>\n",
              "      <td>0.0</td>\n",
              "      <td>0.469</td>\n",
              "      <td>6.421</td>\n",
              "      <td>78.9</td>\n",
              "      <td>4.9671</td>\n",
              "      <td>2.0</td>\n",
              "      <td>242.0</td>\n",
              "      <td>17.8</td>\n",
              "      <td>396.90</td>\n",
              "      <td>9.14</td>\n",
              "      <td>7.07</td>\n",
              "      <td>0.0</td>\n",
              "      <td>12038.120</td>\n",
              "      <td>21.6</td>\n",
              "    </tr>\n",
              "    <tr>\n",
              "      <th>2</th>\n",
              "      <td>0.02729</td>\n",
              "      <td>0.0</td>\n",
              "      <td>7.07</td>\n",
              "      <td>0.0</td>\n",
              "      <td>0.469</td>\n",
              "      <td>7.185</td>\n",
              "      <td>61.1</td>\n",
              "      <td>4.9671</td>\n",
              "      <td>2.0</td>\n",
              "      <td>242.0</td>\n",
              "      <td>17.8</td>\n",
              "      <td>392.83</td>\n",
              "      <td>4.03</td>\n",
              "      <td>7.07</td>\n",
              "      <td>0.0</td>\n",
              "      <td>7797.856</td>\n",
              "      <td>34.7</td>\n",
              "    </tr>\n",
              "    <tr>\n",
              "      <th>3</th>\n",
              "      <td>0.03237</td>\n",
              "      <td>0.0</td>\n",
              "      <td>2.18</td>\n",
              "      <td>0.0</td>\n",
              "      <td>0.458</td>\n",
              "      <td>6.998</td>\n",
              "      <td>45.8</td>\n",
              "      <td>6.0622</td>\n",
              "      <td>3.0</td>\n",
              "      <td>222.0</td>\n",
              "      <td>18.7</td>\n",
              "      <td>394.63</td>\n",
              "      <td>2.94</td>\n",
              "      <td>2.18</td>\n",
              "      <td>0.0</td>\n",
              "      <td>2790.959</td>\n",
              "      <td>33.4</td>\n",
              "    </tr>\n",
              "    <tr>\n",
              "      <th>4</th>\n",
              "      <td>0.06905</td>\n",
              "      <td>0.0</td>\n",
              "      <td>2.18</td>\n",
              "      <td>0.0</td>\n",
              "      <td>0.458</td>\n",
              "      <td>7.147</td>\n",
              "      <td>54.2</td>\n",
              "      <td>6.0622</td>\n",
              "      <td>3.0</td>\n",
              "      <td>222.0</td>\n",
              "      <td>18.7</td>\n",
              "      <td>396.90</td>\n",
              "      <td>5.33</td>\n",
              "      <td>2.18</td>\n",
              "      <td>0.0</td>\n",
              "      <td>4615.700</td>\n",
              "      <td>36.2</td>\n",
              "    </tr>\n",
              "  </tbody>\n",
              "</table>\n",
              "</div>"
            ],
            "text/plain": [
              "      CRIM    ZN  INDUS  CHAS    NOX  ...  LSTAT    New  New1       New2  MEDV\n",
              "0  0.00632  18.0   2.31   0.0  0.538  ...   4.98  20.31   0.0  13231.610  24.0\n",
              "1  0.02731   0.0   7.07   0.0  0.469  ...   9.14   7.07   0.0  12038.120  21.6\n",
              "2  0.02729   0.0   7.07   0.0  0.469  ...   4.03   7.07   0.0   7797.856  34.7\n",
              "3  0.03237   0.0   2.18   0.0  0.458  ...   2.94   2.18   0.0   2790.959  33.4\n",
              "4  0.06905   0.0   2.18   0.0  0.458  ...   5.33   2.18   0.0   4615.700  36.2\n",
              "\n",
              "[5 rows x 17 columns]"
            ]
          },
          "metadata": {
            "tags": []
          },
          "execution_count": 35
        }
      ]
    },
    {
      "cell_type": "code",
      "metadata": {
        "id": "barDBI-f5Q9s",
        "colab_type": "code",
        "colab": {}
      },
      "source": [
        "X = df.drop('MEDV', axis = 1)\n",
        "y = df['MEDV']\n",
        "\n",
        "X_train, X_test, y_train, y_test = train_test_split(X,y,test_size=0.2, random_state=6)\n",
        "scaler = StandardScaler()\n",
        "\n",
        "X_train_std = scaler.fit_transform(X_train)\n",
        "X_test_std = scaler.transform(X_test)\n",
        "\n",
        "X_train_stdr = np.hstack((np.ones(np.size(X_train_std,0)).reshape(-1,1), X_train_std))\n",
        "X_test_stdr = np.hstack((np.ones(np.size(X_test_std,0)).reshape(-1,1), X_test_std))"
      ],
      "execution_count": 0,
      "outputs": []
    },
    {
      "cell_type": "markdown",
      "metadata": {
        "id": "EQ6KBnbpbcuE",
        "colab_type": "text"
      },
      "source": [
        "## Question 2 - Direct Solution [1 marks]"
      ]
    },
    {
      "cell_type": "markdown",
      "metadata": {
        "colab_type": "text",
        "id": "qh9g1ead3NG-"
      },
      "source": [
        "Impelement the direct solution for linear regression on the dataset above and find best lambda.\n",
        "\n",
        "1. Plot Train error and Validation error as a function of the lambda regularizer.\n",
        "2. What is the best lambda where the best fit occurs? Use this best lambda from here on out."
      ]
    },
    {
      "cell_type": "code",
      "metadata": {
        "id": "FzLJgLvy5Re4",
        "colab_type": "code",
        "outputId": "644e96ea-5653-4204-800b-9bb3cdccdac4",
        "colab": {
          "base_uri": "https://localhost:8080/",
          "height": 611
        }
      },
      "source": [
        "MSEtrain = []\n",
        "MSEtest = []\n",
        "for λ in range(0,101):\n",
        "  f = 17\n",
        "  w = np.dot(np.linalg.inv(np.dot(X_train_stdr.T, X_train_stdr) + (λ)*np.identity(f)), np.dot(X_train_stdr.T, y_train))\n",
        "  yPredtrain = np.dot(X_train_stdr, w)\n",
        "  yPredtest = np.dot(X_test_stdr,w)\n",
        "  train_error = (mean_squared_error(yPredtrain, y_train))/2\n",
        "  test_error = (mean_squared_error(yPredtest, y_test))/2\n",
        "  MSEtrain.append(train_error)\n",
        "  MSEtest.append(test_error)\n",
        "\n",
        "MSEtrain = np.asarray(MSEtrain)\n",
        "MSEtest = np.asarray(MSEtest)\n",
        "λ_array = np.arange(0, 101)\n",
        "\n",
        "plt.figure(figsize = (20,10))\n",
        "plt.plot(λ_array, MSEtrain, 'o', label='MSE- Train')\n",
        "plt.plot(λ_array, MSEtest, 'o-', label='MSE - Test')\n",
        "plt.xlabel(\"Lambda\")\n",
        "plt.ylabel(\"Train/Test error\")\n",
        "plt.legend()\n",
        "plt.show()"
      ],
      "execution_count": 37,
      "outputs": [
        {
          "output_type": "display_data",
          "data": {
            "image/png": "[encoded data removed]",
            "text/plain": [
              "<Figure size 1440x720 with 1 Axes>"
            ]
          },
          "metadata": {
            "tags": []
          }
        }
      ]
    },
    {
      "cell_type": "code",
      "metadata": {
        "id": "Lj2Z1pnhcIXA",
        "colab_type": "code",
        "outputId": "dc1d8e6c-f8d9-4003-f0c0-5709cbc4593d",
        "colab": {
          "base_uri": "https://localhost:8080/",
          "height": 50
        }
      },
      "source": [
        "test_error_min = min(MSEtest)\n",
        "print(\"Minimum test error =\", test_error_min)\n",
        "\n",
        "MSEtest_list = MSEtest.tolist()\n",
        "print(\"Lambda at which minimum test error occurs =\", MSEtest_list.index(test_error_min))"
      ],
      "execution_count": 38,
      "outputs": [
        {
          "output_type": "stream",
          "text": [
            "Minimum test error = 13.368931156964784\n",
            "Lambda at which minimum test error occurs = 9\n"
          ],
          "name": "stdout"
        }
      ]
    },
    {
      "cell_type": "markdown",
      "metadata": {
        "colab_type": "text",
        "id": "tceGCk1V3NG_"
      },
      "source": [
        "## Question 3 - Gradient Descent [2 marks]"
      ]
    },
    {
      "cell_type": "markdown",
      "metadata": {
        "colab_type": "text",
        "id": "v9DMAs3I3NHB"
      },
      "source": [
        "1. Implement gradient descent (full-batch) for linear regression using a fixed learning rate $\\alpha$ of 1e-2. You should compute the gradients yourself!\n",
        "\n",
        "2. Run the gradient descent for a fixed number of epochs (based on convergence) and verify that the results closely approximate the direct solution with the same lambda."
      ]
    },
    {
      "cell_type": "code",
      "metadata": {
        "id": "YNgVyxAEz-xk",
        "colab_type": "code",
        "colab": {}
      },
      "source": [
        "y_train = np.asarray(y_train)\n",
        "y_train = y_train.reshape(-1,1)"
      ],
      "execution_count": 0,
      "outputs": []
    },
    {
      "cell_type": "code",
      "metadata": {
        "id": "G3KOOJ8m5SAs",
        "colab_type": "code",
        "colab": {}
      },
      "source": [
        "def grad_descent(X,y,λ,learning_rate,iterations):\n",
        "    mse_gradientdescent = [] \n",
        "    m = len(y_train)\n",
        "    np.random.seed(0)\n",
        "    w_random = np.random.randn(17,1)\n",
        "    for n in range(0, iterations):\n",
        "      ypred_gd = np.dot(X_train_stdr, w_random)\n",
        "      derivative = (np.dot(X_train_stdr.T, (ypred_gd -y_train))+(λ* w_random))\n",
        "      w_random = w_random - learning_rate*(1/m)*derivative\n",
        "      mse_gradientdescent.append(mean_squared_error(ypred_gd, y_train))\n",
        "    return w_random, mse_gradientdescent"
      ],
      "execution_count": 0,
      "outputs": []
    },
    {
      "cell_type": "code",
      "metadata": {
        "id": "w5txIZ4MvqsQ",
        "colab_type": "code",
        "outputId": "b1d82143-173d-49ea-8fe7-e113b90824b5",
        "colab": {
          "base_uri": "https://localhost:8080/",
          "height": 302
        }
      },
      "source": [
        "w_gradientdescent, mse_graddesc = grad_descent(X_train_stdr, y_train, λ = 9, learning_rate=0.01, iterations = 8000)\n",
        "\n",
        "print(\"Gradient descent solution for weights:\", w_gradientdescent)"
      ],
      "execution_count": 41,
      "outputs": [
        {
          "output_type": "stream",
          "text": [
            "Gradient descent solution for weights: [[22.25883777]\n",
            " [-0.61839339]\n",
            " [ 0.66636956]\n",
            " [-0.49255109]\n",
            " [ 0.49224584]\n",
            " [-1.53801178]\n",
            " [ 2.45415567]\n",
            " [-0.08584586]\n",
            " [-2.98745672]\n",
            " [ 2.26786021]\n",
            " [-2.07834085]\n",
            " [-2.06270948]\n",
            " [ 0.89056549]\n",
            " [-3.86933839]\n",
            " [ 0.3594766 ]\n",
            " [ 0.24444285]\n",
            " [ 0.45593395]]\n"
          ],
          "name": "stdout"
        }
      ]
    },
    {
      "cell_type": "code",
      "metadata": {
        "id": "wr0Xa10ux3nY",
        "colab_type": "code",
        "outputId": "34aa84e5-e1d6-4b10-b913-d7aa0ca6eecf",
        "colab": {
          "base_uri": "https://localhost:8080/",
          "height": 67
        }
      },
      "source": [
        "print(\"Direct solution for weights:\", w)"
      ],
      "execution_count": 42,
      "outputs": [
        {
          "output_type": "stream",
          "text": [
            "Direct solution for weights: [18.23988095 -0.44198323  0.38325328 -0.63048453  0.4073719  -0.68071997\n",
            "  2.57467117 -0.05156696 -1.60523238  0.69714305 -0.63957171 -1.65705334\n",
            "  0.74577835 -2.9239656   0.22862998  0.48878814 -0.20185474]\n"
          ],
          "name": "stdout"
        }
      ]
    },
    {
      "cell_type": "code",
      "metadata": {
        "id": "9dQmgmbb0_BI",
        "colab_type": "code",
        "outputId": "e4e10c69-8999-4cc3-d327-2d11d9eee48f",
        "colab": {
          "base_uri": "https://localhost:8080/",
          "height": 302
        }
      },
      "source": [
        "for r in range(17): #for numbers of features\n",
        "  Convergence = (w[r] - w_gradientdescent[r])\n",
        "  \n",
        "#Calculating element-wise error \n",
        "  print(\"Difference of the value\",[r],\" in question 1 and 3 are:\", abs(Convergence))"
      ],
      "execution_count": 43,
      "outputs": [
        {
          "output_type": "stream",
          "text": [
            "Difference of the value [0]  in question 1 and 3 are: [4.01895682]\n",
            "Difference of the value [1]  in question 1 and 3 are: [0.17641015]\n",
            "Difference of the value [2]  in question 1 and 3 are: [0.28311629]\n",
            "Difference of the value [3]  in question 1 and 3 are: [0.13793344]\n",
            "Difference of the value [4]  in question 1 and 3 are: [0.08487394]\n",
            "Difference of the value [5]  in question 1 and 3 are: [0.85729181]\n",
            "Difference of the value [6]  in question 1 and 3 are: [0.1205155]\n",
            "Difference of the value [7]  in question 1 and 3 are: [0.0342789]\n",
            "Difference of the value [8]  in question 1 and 3 are: [1.38222434]\n",
            "Difference of the value [9]  in question 1 and 3 are: [1.57071715]\n",
            "Difference of the value [10]  in question 1 and 3 are: [1.43876914]\n",
            "Difference of the value [11]  in question 1 and 3 are: [0.40565614]\n",
            "Difference of the value [12]  in question 1 and 3 are: [0.14478713]\n",
            "Difference of the value [13]  in question 1 and 3 are: [0.9453728]\n",
            "Difference of the value [14]  in question 1 and 3 are: [0.13084662]\n",
            "Difference of the value [15]  in question 1 and 3 are: [0.24434529]\n",
            "Difference of the value [16]  in question 1 and 3 are: [0.65778869]\n"
          ],
          "name": "stdout"
        }
      ]
    },
    {
      "cell_type": "markdown",
      "metadata": {
        "id": "pC56h2TmThHT",
        "colab_type": "text"
      },
      "source": [
        "**Except for the 1st entry in the list of \"Difference of the value\", all of the comparisons show a small error - implying all of the W values to be nearly the same considering both methods.** "
      ]
    },
    {
      "cell_type": "markdown",
      "metadata": {
        "colab_type": "text",
        "id": "K3xwmhsr3NHS"
      },
      "source": [
        "## Question 4 - Mini-batch size and learning rate [2 marks]"
      ]
    },
    {
      "cell_type": "markdown",
      "metadata": {
        "id": "X6eT9MIB-DSa",
        "colab_type": "text"
      },
      "source": [
        "1- Impelement Mini-batch Gradient Descent.\n",
        "\n",
        "2- Sweep different values for the batch size with a fixed learning rate and report your findings on a plot (Training Error, Test Error,...).\n",
        "\n",
        "3- Select the best batch sized based on fastest convergence (number of times you update the weights) and sweep the learning rate. Report your findings on a plot.\n"
      ]
    },
    {
      "cell_type": "code",
      "metadata": {
        "id": "Hf2vclOWHiRT",
        "colab_type": "code",
        "colab": {}
      },
      "source": [
        "def batch(X_train_5, y_train_5, batch_size):\n",
        "  X_batch = []\n",
        "  y_batch = []\n",
        "  a = -1\n",
        "  z = int(len(X_train_5)/batch_size)\n",
        "  for h in range(z):\n",
        "    xt = []\n",
        "    yt = []\n",
        "    for c in range(batch_size):\n",
        "      a = a+1\n",
        "      xt.append(X_train_5[a])\n",
        "      yt.append(y_train_5[a])\n",
        "    X_batch.append(xt)\n",
        "    y_batch.append(yt)\n",
        "  \n",
        "  z_ = int(len(X_train_5)%batch_size) \n",
        "  if z_ !=0:\n",
        "    for q in range(1):\n",
        "      xt = []\n",
        "      yt = []\n",
        "      for e in range(z_):\n",
        "        a = a+1\n",
        "        xt.append(X_train_5[a])\n",
        "        yt.append(y_train_5[a])\n",
        "    X_batch.append(xt)\n",
        "    y_batch.append(yt)\n",
        "  \n",
        "  return X_batch, y_batch "
      ],
      "execution_count": 0,
      "outputs": []
    },
    {
      "cell_type": "code",
      "metadata": {
        "id": "aRuan0OlWHcY",
        "colab_type": "code",
        "colab": {}
      },
      "source": [
        "y_test = y_test.to_numpy()\n",
        "y_test = y_test.reshape(102,1)"
      ],
      "execution_count": 0,
      "outputs": []
    },
    {
      "cell_type": "code",
      "metadata": {
        "id": "JxxniQVAPCtg",
        "colab_type": "code",
        "colab": {}
      },
      "source": [
        "import time\n",
        "def batch_gradient_descent(X,y,batch_size,learning_rate, iterations=300,λ=9):\n",
        "  np.random.seed(0)\n",
        "  w_random_5 = np.random.randn(17,1)\n",
        "  time_history = []\n",
        "  mse_graddesc_5 = []\n",
        "  mse_graddesc_test = []\n",
        "  mse_gradientepoch = []\n",
        "  batch_time = []\n",
        "\n",
        "  for d in range(iterations):\n",
        "    data_5 = np.hstack((X,y))\n",
        "    random_train_data = np.random.permutation(data_5)\n",
        "    X_train_5 = np.delete(random_train_data,17,1)\n",
        "    y_train_5 = random_train_data[:, 17]\n",
        "    X_batch, y_batch = batch(X_train_5, y_train_5, batch_size)\n",
        "\n",
        "    #For Gradient Descent\n",
        "    p = len(X_batch)\n",
        "    for n in range(p):\n",
        "      start_time = time.time()\n",
        "      ypredgraddesc_5 = np.dot(np.asarray(X_batch[n]),w_random_5)\n",
        "      w_random_5 = w_random_5 - learning_rate*(1/len(y_batch[n]))*(np.dot(np.asarray(X_batch[n]).T, (ypredgraddesc_5-np.asarray(y_batch[n]).reshape(-1,1)))+(λ*w_random_5))\n",
        "      \n",
        "      ypred5 = np.dot(X_train_5, w_random_5)\n",
        "      mse_graddesc_5.append(mean_squared_error(ypred5, y_train_5))\n",
        "\n",
        "      ypred_test = np.dot(X_test_stdr, w_random_5)\n",
        "      mse_graddesc_test.append(mean_squared_error(ypred_test, y_test))\n",
        "      \n",
        "      stop_time = time.time()\n",
        "      time_difference = stop_time - start_time\n",
        "      batch_time.append(time_difference)\n",
        "    \n",
        "    ypred5epoch = np.dot(X_train_5, w_random_5)\n",
        "    mse_gradientepoch.append(mean_squared_error(ypred5epoch, y_train_5))\n",
        "  return mse_graddesc_5, mse_gradientepoch, batch_time, mse_graddesc_test"
      ],
      "execution_count": 0,
      "outputs": []
    },
    {
      "cell_type": "code",
      "metadata": {
        "id": "ntt-NHEFuU79",
        "colab_type": "code",
        "colab": {}
      },
      "source": [
        "#Calling function for train error calculation  \n",
        "total_mse_5 = []\n",
        "total_mse_test = []\n",
        "total_mseepoch_5 = []\n",
        "total_time = []\n",
        "\n",
        "for mini_batch in [50,100,150,200,404]:\n",
        "  mse5 , mseepoch5, btchtime, mse_test = batch_gradient_descent(X_train_stdr, y_train, mini_batch, 0.01, iterations = 400, λ=9)\n",
        "  total_mse_5.append(mse5)\n",
        "  total_mseepoch_5.append(mseepoch5)\n",
        "  total_time.append(btchtime)\n",
        "  total_mse_test.append(mse_test)"
      ],
      "execution_count": 0,
      "outputs": []
    },
    {
      "cell_type": "code",
      "metadata": {
        "id": "E_jlngTjPMb9",
        "colab_type": "code",
        "outputId": "52c1e5f6-8aa9-48ce-9435-dcfa5d7cef40",
        "colab": {
          "base_uri": "https://localhost:8080/",
          "height": 903
        }
      },
      "source": [
        "#Plotting train error as a function of time \n",
        "fig , (ax1, ax2) = plt.subplots(2,1, figsize = (15,15))\n",
        "btch = ['50', '100', '150', '200', '404']\n",
        "#Error for time\n",
        "le_time = len(total_time)\n",
        "for b in range(le_time):\n",
        "  ax1.plot(np.cumsum(np.array(total_time[b])), total_mse_5[b], label = btch[b])\n",
        "ax1.legend()\n",
        "ax1.set_title(\"Train Error vs Time\", fontsize = 18)\n",
        "ax1.set_xlabel('Cumulative time for gradient updates')\n",
        "ax1.set_ylabel('Error Value')\n",
        "ax1.grid()\n",
        "\n",
        "le_time = len(total_time)\n",
        "for b in range(le_time):\n",
        "  ax2.plot(np.cumsum(np.array(total_time[b])), total_mse_test[b], label = btch[b])\n",
        "ax2.legend()\n",
        "ax2.set_title(\"Test Error vs Time\", fontsize = 18)\n",
        "ax2.set_xlabel('Cumulative time for gradient updates')\n",
        "ax2.set_ylabel('Error Value')\n",
        "ax2.grid()"
      ],
      "execution_count": 48,
      "outputs": [
        {
          "output_type": "display_data",
          "data": {
            "image/png": "[encoded data removed]",
            "text/plain": [
              "<Figure size 1080x1080 with 2 Axes>"
            ]
          },
          "metadata": {
            "tags": []
          }
        }
      ]
    },
    {
      "cell_type": "markdown",
      "metadata": {
        "id": "hvhPp5kg0n8j",
        "colab_type": "text"
      },
      "source": [
        "**The best batch size = 150 as observed in graph 1 & 2 as it consumes the least amount of time to attain the lowest possible error.**\n"
      ]
    },
    {
      "cell_type": "code",
      "metadata": {
        "id": "VMqd83N39pcH",
        "colab_type": "code",
        "colab": {}
      },
      "source": [
        "total_mse_5_1 = []\n",
        "total_mse_test = []\n",
        "total_mseepoch_5_1 = []\n",
        "total_time_1 = []\n",
        "\n",
        "for learning_rate in [0.0001, 0.001, 0.01, 0.1]:\n",
        "  mse5 , mseepoch5, btchtime, mse_test = batch_gradient_descent(X_train_stdr, y_train, 150, learning_rate, iterations = 400)\n",
        "  total_mse_5_1.append(mse5)\n",
        "  total_mseepoch_5_1.append(mseepoch5)\n",
        "  total_time_1.append(btchtime)\n",
        "  total_mse_test.append(mse_test)"
      ],
      "execution_count": 0,
      "outputs": []
    },
    {
      "cell_type": "code",
      "metadata": {
        "id": "nfozC6DbBnFr",
        "colab_type": "code",
        "outputId": "4ff9d238-1b90-40ac-f8d9-44e3f73da411",
        "colab": {
          "base_uri": "https://localhost:8080/",
          "height": 522
        }
      },
      "source": [
        "fig , (ax1) = plt.subplots(1,1, figsize = (15,8))\n",
        "lrning_rate = ['0.0001', '0.001', '0.01', '0.1']\n",
        "#Error for time\n",
        "le_time = len(total_time_1)\n",
        "for b in range(le_time):\n",
        "  ax1.plot(np.cumsum(np.array(total_time_1[b])), total_mse_5_1[b], label = lrning_rate[b])\n",
        "ax1.legend()\n",
        "ax1.set_title(\"Train Error vs Time\", fontsize = 18)\n",
        "ax1.set_xlabel('Cumulative time for gradient updates')\n",
        "ax1.set_ylabel('Error Value')\n",
        "ax1.grid()"
      ],
      "execution_count": 50,
      "outputs": [
        {
          "output_type": "display_data",
          "data": {
            "image/png": "[encoded data removed]",
            "text/plain": [
              "<Figure size 1080x576 with 1 Axes>"
            ]
          },
          "metadata": {
            "tags": []
          }
        }
      ]
    },
    {
      "cell_type": "markdown",
      "metadata": {
        "colab_type": "text",
        "id": "_APuh43i3NHU"
      },
      "source": [
        "## Question 5 - Adaptive Learning rate [2 marks]"
      ]
    },
    {
      "cell_type": "markdown",
      "metadata": {
        "colab_type": "text",
        "id": "MabNnVcW3NHU"
      },
      "source": [
        "Impelement an adaptive learning rate scheme where you start a mini-batch gradient descent with a large learning rate and decrease the learning rate while you are getting closer to the local minima. "
      ]
    },
    {
      "cell_type": "code",
      "metadata": {
        "id": "J6y-mK8r5TD3",
        "colab_type": "code",
        "colab": {}
      },
      "source": [
        "import time\n",
        "def batch_gradient_descent_2(X,y,batch_size,learning_rate, iterations=300,λ=9):\n",
        "  np.random.seed(0)\n",
        "  w_random_5 = np.random.randn(17,1)\n",
        "  time_history = []\n",
        "  mse_graddesc_5 = []\n",
        "  mse_gradientepoch = []\n",
        "  batch_time = []\n",
        "\n",
        "  for d in range(iterations):\n",
        "    data_5 = np.hstack((X,y))\n",
        "    random_train_data = np.random.permutation(data_5)\n",
        "    X_train_5 = np.delete(random_train_data,17,1)\n",
        "    y_train_5 = random_train_data[:, 17]\n",
        "    X_batch, y_batch = batch(X_train_5, y_train_5, batch_size)\n",
        "\n",
        "    #For Gradient Descent\n",
        "    p = len(X_batch)\n",
        "    for n in range(p):\n",
        "      start_time = time.time()\n",
        "      ypredgraddesc_5 = np.dot(np.asarray(X_batch[n]),w_random_5)\n",
        "      derivative_1 = (1/len(y_batch[n]))*(np.dot(np.asarray(X_batch[n]).T, (ypredgraddesc_5-np.asarray(y_batch[n]).reshape(-1,1)))+(λ*w_random_5))\n",
        "      w_random_5 = w_random_5 - learning_rate*derivative_1\n",
        "      ypred5 = np.dot(X_train_5, w_random_5)\n",
        "      mse_gd = mean_squared_error(ypred5, y_train_5)\n",
        "      if mse_gd > 350:\n",
        "        learning_rate = 0.1\n",
        "      if 150 < mse_gd <= 350:\n",
        "        learning_rate = 0.01\n",
        "      if mse_gd <= 150:\n",
        "        learning_rate = 0.001   \n",
        "      mse_graddesc_5.append(mse_gd)\n",
        "      stop_time = time.time()\n",
        "      time_difference = stop_time - start_time\n",
        "      batch_time.append(time_difference)\n",
        "\n",
        "    ypred5epoch = np.dot(X_train_5, w_random_5)\n",
        "    mse_gradientepoch.append(mean_squared_error(ypred5epoch, y_train_5))\n",
        "  return mse_graddesc_5, mse_gradientepoch, batch_time"
      ],
      "execution_count": 0,
      "outputs": []
    },
    {
      "cell_type": "code",
      "metadata": {
        "id": "t-2EENN8wtg9",
        "colab_type": "code",
        "colab": {}
      },
      "source": [
        "#Implementing adaptive learning rate of 0.1, 0.01 and 0.001\n",
        "total_mse_5_2 = []\n",
        "total_time_2 = []\n",
        "\n",
        "mse5 , mseepoch5, btchtime = batch_gradient_descent_2(X_train_stdr, y_train, 150, learning_rate=0.1, iterations = 400, λ=9)\n",
        "total_mse_5_2.append(mse5)\n",
        "total_time_2.append(btchtime)\n"
      ],
      "execution_count": 0,
      "outputs": []
    },
    {
      "cell_type": "code",
      "metadata": {
        "colab_type": "code",
        "id": "1uxOFgjyG1tZ",
        "colab": {}
      },
      "source": [
        "#Implementing constant learning rate of 0.1 to display the difference\n",
        "total_mse_5_3 = []\n",
        "total_time_3 = []\n",
        "\n",
        "mse5 , mseepoch5, btchtime, mse_test = batch_gradient_descent(X_train_stdr, y_train, batch_size = 150, learning_rate = 0.1, iterations = 400, λ=9)\n",
        "total_mse_5_3.append(mse5)\n",
        "total_time_3.append(btchtime)"
      ],
      "execution_count": 0,
      "outputs": []
    },
    {
      "cell_type": "code",
      "metadata": {
        "id": "PiIHHvMztCyn",
        "colab_type": "code",
        "outputId": "f4cc8166-c5dd-4263-e60d-068ae497e2e0",
        "colab": {
          "base_uri": "https://localhost:8080/",
          "height": 376
        }
      },
      "source": [
        "#Plotting graphs for the adaptive and constant LR \n",
        "fig , (ax1, ax2) = plt.subplots(1,2, figsize = (18,5))\n",
        "\n",
        "#Error against time\n",
        "le_time = len(total_time_2)\n",
        "for b in range(le_time):\n",
        "  ax1.plot(np.cumsum(np.array(total_time_2[b])), total_mse_5_2[b], label = 'Adaptive Learning Rate of 0.1, 0.01 and 0.001 @ batch size = 150')\n",
        "ax1.legend()\n",
        "ax1.set_title(\"Error vs Time\", fontsize = 18)\n",
        "ax1.set_xlabel('Cumulative time for gradient updates')\n",
        "ax1.set_ylabel('Error Value')\n",
        "\n",
        "le_time = len(total_time_3)\n",
        "for b in range(le_time):\n",
        "  ax2.plot(np.cumsum(np.array(total_time_3[b])), total_mse_5_3[b], label = 'Constant Learning Rate = 0.1 @ batch size = 150')\n",
        "ax2.legend()\n",
        "ax2.set_title(\"Error vs Time\", fontsize = 18)\n",
        "ax2.set_xlabel('Cumulative time for gradient updates')\n",
        "ax2.set_ylabel('Error Value')"
      ],
      "execution_count": 54,
      "outputs": [
        {
          "output_type": "execute_result",
          "data": {
            "text/plain": [
              "Text(0, 0.5, 'Error Value')"
            ]
          },
          "metadata": {
            "tags": []
          },
          "execution_count": 54
        },
        {
          "output_type": "display_data",
          "data": {
            "image/png": "[encoded data removed]",
            "text/plain": [
              "<Figure size 1296x360 with 2 Axes>"
            ]
          },
          "metadata": {
            "tags": []
          }
        }
      ]
    },
    {
      "cell_type": "markdown",
      "metadata": {
        "colab_type": "text",
        "id": "0cS99Cxw3NHV"
      },
      "source": [
        "## Question 6 - Fastest Solution! [2 +1 Bonus marks]\n",
        "Less training time, More marks!"
      ]
    },
    {
      "cell_type": "markdown",
      "metadata": {
        "id": "zIUuhPqA1WUe",
        "colab_type": "text"
      },
      "source": [
        "So far, you learned alot about gradient descent. \n",
        "Now consider you are an Machine learning expert working for a huge corporation. One of the most important things you will face as an ML expert is to train and develope your models as fast & accurate as possible.\n",
        "\n",
        " In this part we want to find a mini-batch size and a learning rate adjustment scheme to train the model quickly. Use the Python time library to measure the training time (time you spend to find the weights). Repeat every case at least 10 times and report the average time (the machine that is running your code is also performing other tasks, averaging time will help you to have a better judgment about the performance of your model). You should train your model until the loss of the model on the test set is close to direct solution with $\\pm 1\\%$ error. \n",
        "\n",
        " Elaborate your findings with help of tables/plots.\n",
        "\n",
        " Report your Best time, and Accuracy!"
      ]
    },
    {
      "cell_type": "code",
      "metadata": {
        "id": "p2IwO-mzShHW",
        "colab_type": "code",
        "colab": {}
      },
      "source": [
        "import time\n",
        "def batch_gradient_descent_3(X,y,batch_size,learning_rate, iterations=300,λ=9):\n",
        "  np.random.seed(0)\n",
        "  w_random_5 = np.random.randn(17,1)\n",
        "  time_history = []\n",
        "  mse_graddesc_5 = []\n",
        "  mse_gradientepoch = []\n",
        "  batch_time = []\n",
        "  start_time = time.time()\n",
        "\n",
        "  for d in range(iterations):\n",
        "    data_5 = np.hstack((X,y))\n",
        "    random_train_data = np.random.permutation(data_5)\n",
        "    X_train_5 = np.delete(random_train_data,17,1)\n",
        "    y_train_5 = random_train_data[:, 17]\n",
        "    X_batch, y_batch = batch(X_train_5, y_train_5, batch_size)\n",
        "\n",
        "    #For Gradient Descent\n",
        "    p = len(X_batch)\n",
        "    for n in range(p):\n",
        "      ypredgraddesc_5 = np.dot(np.asarray(X_batch[n]),w_random_5)\n",
        "      derivative_1 = (1/len(y_batch[n]))*(np.dot(np.asarray(X_batch[n]).T, (ypredgraddesc_5-np.asarray(y_batch[n]).reshape(-1,1)))+(λ*w_random_5))\n",
        "      w_random_5 = w_random_5 - learning_rate*derivative_1\n",
        "    ypred5 = np.dot(X_test_stdr, w_random_5)\n",
        "    mse_gd = (mean_squared_error(ypred5, y_test))/2 \n",
        "    stop_time = time.time()\n",
        "    time_difference = stop_time - start_time\n",
        "    batch_time.append(time_difference)\n",
        "    if mse_gd > 350:\n",
        "      learning_rate = 0.1\n",
        "    if 150 < mse_gd <= 350:\n",
        "      learning_rate = 0.01\n",
        "    if mse_gd <= 150:\n",
        "      learning_rate = 0.001   \n",
        "    mse_test.append(mse_gd)\n",
        "\n",
        "  return mse_test, batch_time"
      ],
      "execution_count": 0,
      "outputs": []
    },
    {
      "cell_type": "code",
      "metadata": {
        "id": "GbX5sKrY5Toe",
        "colab_type": "code",
        "outputId": "6284cd57-7573-4e80-e118-fb0777face5a",
        "colab": {
          "base_uri": "https://localhost:8080/",
          "height": 101
        }
      },
      "source": [
        "lst = [50,100,150,200,404]\n",
        "btch_lst = []\n",
        "avg_list = []\n",
        "\n",
        "for i in lst:\n",
        "  for j in range(10):\n",
        "    mse5_0, btchtime_0 = batch_gradient_descent_3(X_train_stdr, y_train, i, learning_rate=0.1, iterations = 400, λ=9)\n",
        "    btch_lst.append(btchtime_0)\n",
        "  avg_time = np.mean(btch_lst)\n",
        "  print(\"Average time for batch size of\", i, \":\", avg_time)\n",
        "  avg_list.append(avg_time)"
      ],
      "execution_count": 69,
      "outputs": [
        {
          "output_type": "stream",
          "text": [
            "Average time for batch size of 50 : 0.16151983350515364\n",
            "Average time for batch size of 100 : 0.15605539414286612\n",
            "Average time for batch size of 150 : 0.152027095357577\n",
            "Average time for batch size of 200 : 0.15033396165072918\n",
            "Average time for batch size of 404 : 0.14787951679229736\n"
          ],
          "name": "stdout"
        }
      ]
    },
    {
      "cell_type": "markdown",
      "metadata": {
        "id": "s7tRKRiNqMum",
        "colab_type": "text"
      },
      "source": [
        "**From the above results, we can see that on repeating the experiment for 10 times acorss an adaptive learning rate scheme for all the mini-batch sizes, the mini-batch size of 404 consumes the least average time to compute weights and the resulting cost function.**"
      ]
    },
    {
      "cell_type": "code",
      "metadata": {
        "id": "sXeT_q1Lo0Om",
        "colab_type": "code",
        "outputId": "5d56b9a3-cacb-4e4f-c791-81e84ed42e4c",
        "colab": {
          "base_uri": "https://localhost:8080/",
          "height": 34
        }
      },
      "source": [
        "d_error = min(MSEtest)\n",
        "print(\"The cost function from Direct solution:\", d_error)"
      ],
      "execution_count": 71,
      "outputs": [
        {
          "output_type": "stream",
          "text": [
            "The cost function from Direct solution: 13.368931156964784\n"
          ],
          "name": "stdout"
        }
      ]
    },
    {
      "cell_type": "code",
      "metadata": {
        "id": "KjUmLA5kvVnK",
        "colab_type": "code",
        "outputId": "8a577646-412a-41c9-9afc-43695ceccedc",
        "colab": {
          "base_uri": "https://localhost:8080/",
          "height": 34
        }
      },
      "source": [
        "mse5_p, btchtime_p = batch_gradient_descent_3(X_train_stdr, y_train, batch_size=150, learning_rate=0.1, iterations = 8000, λ=9)\n",
        "print(\"The cost function from Direct solution:\", min(mse5_p))"
      ],
      "execution_count": 72,
      "outputs": [
        {
          "output_type": "stream",
          "text": [
            "The cost function from Direct solution: 13.88769958599986\n"
          ],
          "name": "stdout"
        }
      ]
    },
    {
      "cell_type": "code",
      "metadata": {
        "id": "4FiSXLclov5-",
        "colab_type": "code",
        "outputId": "98bb9d5d-cc1b-43be-d8f1-5335a8be35b4",
        "colab": {
          "base_uri": "https://localhost:8080/",
          "height": 34
        }
      },
      "source": [
        "Error_percent = ((min(mse5_p) - min(MSEtest))/(min(MSEtest)))*100\n",
        "print(\"The Error percent =\", Error_percent)"
      ],
      "execution_count": 73,
      "outputs": [
        {
          "output_type": "stream",
          "text": [
            "The Error percent = 3.8804031746757395\n"
          ],
          "name": "stdout"
        }
      ]
    },
    {
      "cell_type": "markdown",
      "metadata": {
        "colab_type": "text",
        "id": "5XTVDYzm3NHZ"
      },
      "source": [
        "## References"
      ]
    },
    {
      "cell_type": "markdown",
      "metadata": {
        "colab_type": "text",
        "id": "AmYsHNPd3NHZ"
      },
      "source": [
        "https://datascience.stackexchange.com/questions/10188/why-do-cost-functions-use-the-square-error"
      ]
    },
    {
      "cell_type": "markdown",
      "metadata": {
        "colab_type": "text",
        "id": "pXoI_Egk3NHa"
      },
      "source": [
        "Linear Regression:\n",
        "1. https://sebastianraschka.com/faq/docs/closed-form-vs-gd.html\n",
        "\n",
        "Gradient Descent (images and equations):\n",
        "1. https://towardsdatascience.com/linear-regression-using-gradient-descent-97a6c8700931\n",
        "2. https://towardsdatascience.com/linear-regression-using-python-b136c91bf0a2\n",
        "\n",
        "Modified: Saket Thavanani"
      ]
    }
  ]
}